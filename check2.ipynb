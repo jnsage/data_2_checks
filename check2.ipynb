{
 "cells": [
  {
   "cell_type": "code",
   "execution_count": null,
   "id": "e3c00dc4",
   "metadata": {},
   "outputs": [],
   "source": [
    "import urllib\n",
    "import pandas as pd"
   ]
  },
  {
   "cell_type": "code",
   "execution_count": null,
   "id": "13340d47",
   "metadata": {},
   "outputs": [],
   "source": [
    "# Configure Google Sheets URL\n",
    "workbook = '1zYw_XAiYyBTjJOrxXZyetcQC-grdXO5D4CVt2zRIhBc'\n",
    "sheet_name = 'Check2'\n",
    "url = f'https://docs.google.com/spreadsheets/d/{workbook}/gviz/tq?tqx=out:csv&sheet={sheet_name}'"
   ]
  },
  {
   "cell_type": "code",
   "execution_count": null,
   "id": "e0fdbd2c",
   "metadata": {},
   "outputs": [],
   "source": [
    "# Import Google Sheet as a DataFrame. Replace any string values in the 'Date' and 'Time' columns with a datetime objects.\n",
    "try:\n",
    "    movie_df = pd.read_csv(url, parse_dates=['Year','Date','Time'])\n",
    "except urllib.error.URLError:\n",
    "    print(\"There is no internet connection. Please connect to the internet and try again.\")\n"
   ]
  },
  {
   "cell_type": "code",
   "execution_count": null,
   "id": "98a88b5e",
   "metadata": {},
   "outputs": [],
   "source": [
    "# Correct title spelling. Weekday > Day_of_week, time > showtime\n",
    "print('Original column names: ', movie_df.columns)\n",
    "\n",
    "renamed_columns = {'Year' : 'Year',\n",
    "                 'ttle' : 'Title',\n",
    "                 'Theater' : 'Theater',\n",
    "                 'Weekday' : 'Day',\n",
    "                 'Date' : 'Date',\n",
    "                 'Time' : 'Showtime',\n",
    "                 'Saw with April' : 'With April'\n",
    "}\n",
    "movie_df.rename(columns=renamed_columns, inplace=True)\n",
    "\n",
    "print('New column names: ', movie_df.columns)"
   ]
  },
  {
   "cell_type": "code",
   "execution_count": null,
   "id": "91fbb639",
   "metadata": {},
   "outputs": [],
   "source": [
    "# Drop rows with NaN in Title column\n",
    "\n",
    "print('Original dataframe shape: ', movie_df.shape)\n",
    "movie_df.dropna(subset=['Title'], inplace=True)\n"
   ]
  },
  {
   "cell_type": "code",
   "execution_count": null,
   "id": "dc31bd09",
   "metadata": {},
   "outputs": [],
   "source": [
    "# Show number of rows is less after dropping NaN in titles\n",
    "print('New dataframe shape: ', movie_df.shape)"
   ]
  },
  {
   "cell_type": "code",
   "execution_count": null,
   "id": "18f113e3",
   "metadata": {},
   "outputs": [],
   "source": [
    "# Check value names in the theater column\n",
    "movie_df['Theater'].unique()"
   ]
  },
  {
   "cell_type": "code",
   "execution_count": null,
   "id": "61951592",
   "metadata": {},
   "outputs": [],
   "source": [
    "# Replace 2 names and display new values to validate changes\n",
    "movie_df['Theater'].replace(to_replace={'Village Eight' : 'Village 8' , 'Ft. Lauderdale EcoDiscovery Center IMAX' : 'Ft. Lauderdale Eco Discovery Center'}, inplace=True)\n",
    "movie_df['Theater'].unique()"
   ]
  },
  {
   "cell_type": "code",
   "execution_count": null,
   "id": "a784940a",
   "metadata": {},
   "outputs": [],
   "source": [
    "# Fill in missing years. Show if any values in the series are NaN and look at first 5 rows to validate. \n",
    "print('NaN Exists: ', movie_df['Year'].isnull().values.any())\n",
    "print(movie_df['Year'].head())\n"
   ]
  },
  {
   "cell_type": "code",
   "execution_count": null,
   "id": "d1c39663",
   "metadata": {},
   "outputs": [],
   "source": [
    "# Fill in year with year copied from date column\n",
    "movie_df['Year'] = movie_df['Date'].dt.year"
   ]
  },
  {
   "cell_type": "code",
   "execution_count": null,
   "id": "9c38f2a3",
   "metadata": {},
   "outputs": [],
   "source": [
    "# Show if any values in the series are NaN and look at first 5 rows to validate. \n",
    "print('NaN Exists: ', movie_df['Year'].isnull().values.any())\n",
    "print(movie_df['Year'].head())"
   ]
  },
  {
   "cell_type": "code",
   "execution_count": null,
   "id": "31889d57",
   "metadata": {},
   "outputs": [],
   "source": [
    "# Check to see if any more NaN exists in entire dataframe. Print to validate column changes, \n",
    "print('NaN Exists in movie_df: ', movie_df.isnull().values.any())\n",
    "movie_df"
   ]
  },
  {
   "cell_type": "code",
   "execution_count": null,
   "id": "5eee896b",
   "metadata": {},
   "outputs": [],
   "source": []
  }
 ],
 "metadata": {
  "kernelspec": {
   "display_name": "Python 3 (ipykernel)",
   "language": "python",
   "name": "python3"
  },
  "language_info": {
   "codemirror_mode": {
    "name": "ipython",
    "version": 3
   },
   "file_extension": ".py",
   "mimetype": "text/x-python",
   "name": "python",
   "nbconvert_exporter": "python",
   "pygments_lexer": "ipython3",
   "version": "3.10.1"
  }
 },
 "nbformat": 4,
 "nbformat_minor": 5
}
